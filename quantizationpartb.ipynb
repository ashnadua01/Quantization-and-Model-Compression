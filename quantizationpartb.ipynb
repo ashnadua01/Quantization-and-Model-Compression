{
 "cells": [
  {
   "cell_type": "markdown",
   "metadata": {},
   "source": [
    "## Bitsandbytes Implementation"
   ]
  },
  {
   "cell_type": "code",
   "execution_count": 1,
   "metadata": {
    "_cell_guid": "b1076dfc-b9ad-4769-8c92-a6c4dae69d19",
    "_uuid": "8f2839f25d086af736a60e9eeb907d3b93b6e0e5",
    "execution": {
     "iopub.execute_input": "2024-11-16T18:45:06.883692Z",
     "iopub.status.busy": "2024-11-16T18:45:06.882990Z",
     "iopub.status.idle": "2024-11-16T18:45:24.456614Z",
     "shell.execute_reply": "2024-11-16T18:45:24.455568Z",
     "shell.execute_reply.started": "2024-11-16T18:45:06.883644Z"
    },
    "trusted": true
   },
   "outputs": [
    {
     "name": "stdout",
     "output_type": "stream",
     "text": [
      "Collecting bitsandbytes\n",
      "  Downloading bitsandbytes-0.44.1-py3-none-manylinux_2_24_x86_64.whl.metadata (3.5 kB)\n",
      "Requirement already satisfied: torch in /opt/conda/lib/python3.10/site-packages (from bitsandbytes) (2.4.0)\n",
      "Requirement already satisfied: numpy in /opt/conda/lib/python3.10/site-packages (from bitsandbytes) (1.26.4)\n",
      "Requirement already satisfied: filelock in /opt/conda/lib/python3.10/site-packages (from torch->bitsandbytes) (3.15.1)\n",
      "Requirement already satisfied: typing-extensions>=4.8.0 in /opt/conda/lib/python3.10/site-packages (from torch->bitsandbytes) (4.12.2)\n",
      "Requirement already satisfied: sympy in /opt/conda/lib/python3.10/site-packages (from torch->bitsandbytes) (1.13.3)\n",
      "Requirement already satisfied: networkx in /opt/conda/lib/python3.10/site-packages (from torch->bitsandbytes) (3.3)\n",
      "Requirement already satisfied: jinja2 in /opt/conda/lib/python3.10/site-packages (from torch->bitsandbytes) (3.1.4)\n",
      "Requirement already satisfied: fsspec in /opt/conda/lib/python3.10/site-packages (from torch->bitsandbytes) (2024.6.1)\n",
      "Requirement already satisfied: MarkupSafe>=2.0 in /opt/conda/lib/python3.10/site-packages (from jinja2->torch->bitsandbytes) (2.1.5)\n",
      "Requirement already satisfied: mpmath<1.4,>=1.1.0 in /opt/conda/lib/python3.10/site-packages (from sympy->torch->bitsandbytes) (1.3.0)\n",
      "Downloading bitsandbytes-0.44.1-py3-none-manylinux_2_24_x86_64.whl (122.4 MB)\n",
      "\u001b[2K   \u001b[90m━━━━━━━━━━━━━━━━━━━━━━━━━━━━━━━━━━━━━━━━\u001b[0m \u001b[32m122.4/122.4 MB\u001b[0m \u001b[31m9.4 MB/s\u001b[0m eta \u001b[36m0:00:00\u001b[0m:00:01\u001b[0m00:01\u001b[0m\n",
      "\u001b[?25hInstalling collected packages: bitsandbytes\n",
      "Successfully installed bitsandbytes-0.44.1\n"
     ]
    }
   ],
   "source": [
    "!pip install bitsandbytes"
   ]
  },
  {
   "cell_type": "code",
   "execution_count": 2,
   "metadata": {
    "execution": {
     "iopub.execute_input": "2024-11-16T18:45:27.181744Z",
     "iopub.status.busy": "2024-11-16T18:45:27.180951Z",
     "iopub.status.idle": "2024-11-16T18:45:35.283890Z",
     "shell.execute_reply": "2024-11-16T18:45:35.283101Z",
     "shell.execute_reply.started": "2024-11-16T18:45:27.181703Z"
    },
    "trusted": true
   },
   "outputs": [],
   "source": [
    "import torch\n",
    "from transformers import GPT2LMHeadModel, GPT2Tokenizer, BitsAndBytesConfig\n",
    "from datasets import load_dataset\n",
    "import bitsandbytes as bnb\n",
    "from torch.nn import CrossEntropyLoss\n",
    "import numpy as np\n",
    "import time\n",
    "import matplotlib.pyplot as plt\n",
    "from typing import Dict, List\n",
    "import gc\n",
    "import logging\n",
    "import os"
   ]
  },
  {
   "cell_type": "code",
   "execution_count": null,
   "metadata": {
    "execution": {
     "iopub.execute_input": "2024-11-16T18:55:19.610164Z",
     "iopub.status.busy": "2024-11-16T18:55:19.609770Z",
     "iopub.status.idle": "2024-11-16T18:55:19.641596Z",
     "shell.execute_reply": "2024-11-16T18:55:19.640676Z",
     "shell.execute_reply.started": "2024-11-16T18:55:19.610127Z"
    },
    "trusted": true
   },
   "outputs": [],
   "source": [
    "class ModelQuantizer:\n",
    "    def __init__(self, model_name=\"gpt2\"):\n",
    "        self.model_name = model_name\n",
    "        self.device = \"cuda\" if torch.cuda.is_available() else \"cpu\"\n",
    "        self.tokenizer = GPT2Tokenizer.from_pretrained(model_name)\n",
    "        \n",
    "        # Base model\n",
    "        self.base_model = GPT2LMHeadModel.from_pretrained(model_name)\n",
    "        self.base_model.to(self.device)\n",
    "        self.metrics = {\"memory\": {}, \"latency\": {}, \"perplexity\": {}}\n",
    "\n",
    "    def load_dataset(self, num_samples=3000):\n",
    "        dataset = load_dataset(\"/kaggle/input/wiki-20220301-en\")        \n",
    "        dataset = dataset[\"train\"].select(range(num_samples))\n",
    "        texts = [text['text'] for text in dataset]\n",
    "        print(f\"Total samples selected: {len(texts)}\")\n",
    "        if len(texts) < num_samples:\n",
    "            raise ValueError(f\"Only {len(texts)} samples available. Consider using a smaller 'num_samples' value.\")\n",
    "        \n",
    "        print(f\"Using {len(texts)} samples for evaluation\")\n",
    "        return texts\n",
    "\n",
    "    def measure_memory(self, model) -> float:\n",
    "        memory_bytes = sum(p.nelement() * p.element_size() for p in model.parameters())\n",
    "        return memory_bytes / (1024 * 1024)  # Convert to MB\n",
    "\n",
    "    def measure_latency(self, model, input_texts: list, num_runs: int = 1) -> float:\n",
    "        latencies = []\n",
    "        with torch.no_grad():\n",
    "            for input_text in input_texts[0:10]:\n",
    "                inputs = self.tokenizer(input_text[:512], return_tensors=\"pt\").to(self.device)\n",
    "                for _ in range(num_runs):\n",
    "                    start_time = time.time()\n",
    "                    model(**inputs)\n",
    "                    latencies.append(time.time() - start_time)\n",
    "        \n",
    "        return sum(latencies) / len(latencies)\n",
    "\n",
    "    def calculate_perplexity(self, model, texts: List[str], max_length: int = 512) -> float:\n",
    "        total_loss = 0\n",
    "        total_length = 0\n",
    "        \n",
    "        model.eval()\n",
    "        with torch.no_grad():\n",
    "            for text in texts:\n",
    "                inputs = self.tokenizer(text[:max_length], return_tensors=\"pt\").to(self.device)\n",
    "                labels = inputs.input_ids\n",
    "                \n",
    "                outputs = model(**inputs)\n",
    "                logits = outputs.logits\n",
    "                \n",
    "                shift_logits = logits[..., :-1, :].contiguous()\n",
    "                shift_labels = labels[..., 1:].contiguous()\n",
    "                \n",
    "                loss_fct = CrossEntropyLoss(reduction='sum')\n",
    "                loss = loss_fct(shift_logits.view(-1, shift_logits.size(-1)),\n",
    "                              shift_labels.view(-1))\n",
    "                \n",
    "                total_loss += loss.item()\n",
    "                total_length += labels.size(1) - 1\n",
    "        \n",
    "        return torch.exp(torch.tensor(total_loss / total_length)).item()\n",
    "\n",
    "    def quantize_8bit_linear(self):\n",
    "        print(\"Quantizing model to 8-bit linear precision...\")\n",
    "        quantization_config = BitsAndBytesConfig(load_in_8bit=True)\n",
    "        \n",
    "        model_8bit = GPT2LMHeadModel.from_pretrained(\n",
    "            self.model_name,\n",
    "            quantization_config=quantization_config,\n",
    "            device_map=\"auto\"\n",
    "        )\n",
    "        return model_8bit\n",
    "\n",
    "    def quantize_4bit_linear(self):\n",
    "        print(\"Quantizing model to 4-bit linear precision...\")\n",
    "        quantization_config = BitsAndBytesConfig(load_in_4bit=True)\n",
    "        \n",
    "        model_4bit_linear = GPT2LMHeadModel.from_pretrained(\n",
    "            self.model_name,\n",
    "            quantization_config=quantization_config,\n",
    "            device_map=\"auto\"\n",
    "        )\n",
    "        return model_4bit_linear\n",
    "\n",
    "    def quantize_4bit_nf4(self):\n",
    "        print(\"Quantizing model to 4-bit NF4 precision...\")\n",
    "        quantization_config = BitsAndBytesConfig(\n",
    "            load_in_4bit=True,\n",
    "            bnb_4bit_compute_dtype=torch.float16,\n",
    "            bnb_4bit_use_double_quant=True,\n",
    "            bnb_4bit_quant_type=\"nf4\"\n",
    "        )\n",
    "        \n",
    "        model_4bit_nf4 = GPT2LMHeadModel.from_pretrained(\n",
    "            self.model_name,\n",
    "            quantization_config=quantization_config,\n",
    "            device_map=\"auto\"\n",
    "        )\n",
    "        return model_4bit_nf4\n",
    "\n",
    "    def run_evaluation(self):\n",
    "        print(\"Loading dataset...\")\n",
    "        texts = self.load_dataset()\n",
    "        \n",
    "        # Evaluate base model\n",
    "        print(\"Evaluating base model...\")\n",
    "        memory_base = self.measure_memory(self.base_model)\n",
    "        latency_base = self.measure_latency(self.base_model, texts)\n",
    "        per_base = self.calculate_perplexity(self.base_model, texts)\n",
    "\n",
    "        self.metrics[\"memory\"][\"base\"] = memory_base\n",
    "        self.metrics[\"latency\"][\"base\"] = latency_base\n",
    "        self.metrics[\"perplexity\"][\"base\"] = per_base\n",
    "\n",
    "        print(\"Memory (Base Model): \", memory_base)\n",
    "        print(\"Latency (Base Model): \", latency_base)\n",
    "        print(\"Perplexity (Base Model): \", per_base)\n",
    "        \n",
    "        # Clear GPU memory\n",
    "        del self.base_model\n",
    "        torch.cuda.empty_cache()\n",
    "        gc.collect()\n",
    "        \n",
    "        # Evaluate 8-bit linear model\n",
    "        print(\"Evaluating 8-bit linear model...\")\n",
    "        model_8bit_linear = self.quantize_8bit_linear()\n",
    "        memory_8bit = self.measure_memory(model_8bit_linear)\n",
    "        latency_8bit = self.measure_latency(model_8bit_linear, texts)\n",
    "        perplexity_8bit = self.calculate_perplexity(model_8bit_linear, texts)\n",
    "\n",
    "        self.metrics[\"memory\"][\"8bit_linear\"] = memory_8bit\n",
    "        self.metrics[\"latency\"][\"8bit_linear\"] = latency_8bit\n",
    "        self.metrics[\"perplexity\"][\"8bit_linear\"] = perplexity_8bit\n",
    "\n",
    "        print(\"Memory (8 bit Model): \", memory_8bit)\n",
    "        print(\"Latency (8 bit Model: \", latency_8bit)\n",
    "        print(\"Perplexity (8 bit Model: \", perplexity_8bit)\n",
    "        \n",
    "        del model_8bit_linear\n",
    "        torch.cuda.empty_cache()\n",
    "        gc.collect()\n",
    "        \n",
    "        # Evaluate 4-bit linear model\n",
    "        print(\"Evaluating 4-bit linear model...\")\n",
    "        model_4bit_linear = self.quantize_4bit_linear()\n",
    "        memory_4bit = self.measure_memory(model_4bit_linear)\n",
    "        latency_4bit = self.measure_latency(model_4bit_linear, texts)\n",
    "        per_4bit = self.calculate_perplexity(model_4bit_linear, texts)\n",
    "\n",
    "        self.metrics[\"memory\"][\"4bit_linear\"] = memory_4bit\n",
    "        self.metrics[\"latency\"][\"4bit_linear\"] = latency_4bit\n",
    "        self.metrics[\"perplexity\"][\"4bit_linear\"] = per_4bit\n",
    "\n",
    "        print(\"Memory (4 bit Model): \", memory_4bit)\n",
    "        print(\"Latency (4 bit Model: \", latency_4bit)\n",
    "        print(\"Perplexity (4 bit Model: \", per_4bit)\n",
    "        \n",
    "        del model_4bit_linear\n",
    "        torch.cuda.empty_cache()\n",
    "        gc.collect()\n",
    "        \n",
    "        # Evaluate 4-bit NF4 model\n",
    "        print(\"Evaluating 4-bit NF4 model...\")\n",
    "        model_4bit_nf4 = self.quantize_4bit_nf4()\n",
    "        memory_nf4 = self.measure_memory(model_4bit_nf4)\n",
    "        latency_nf4 = self.measure_latency(model_4bit_nf4, texts)\n",
    "        perplexity_nf4 = self.calculate_perplexity(model_4bit_nf4, texts)\n",
    "\n",
    "        self.metrics[\"memory\"][\"4bit_nf4\"] = memory_nf4\n",
    "        self.metrics[\"latency\"][\"4bit_nf4\"] = latency_nf4\n",
    "        self.metrics[\"perplexity\"][\"4bit_nf4\"] = perplexity_nf4\n",
    "\n",
    "        print(\"Memory (NF4 Model): \", memory_nf4)\n",
    "        print(\"Latency (NF4 Model: \", latency_nf4)\n",
    "        print(\"Perplexity (NF4 Model: \", perplexity_nf4)\n",
    "        \n",
    "        return self.metrics\n",
    "\n",
    "    def plot_results(self):\n",
    "        metrics = self.metrics\n",
    "        fig, (ax1, ax2, ax3) = plt.subplots(1, 3, figsize=(15, 5))\n",
    "        models = list(metrics[\"memory\"].keys())\n",
    "        colors = ['blue', 'green', 'red']\n",
    "        \n",
    "        # Memory plot\n",
    "        memory_values = list(metrics[\"memory\"].values())\n",
    "        ax1.bar(models, memory_values, color=colors)\n",
    "        ax1.set_title('Memory Usage (MB)')\n",
    "        ax1.set_ylabel('MB')\n",
    "        ax1.tick_params(axis='x', rotation=45)\n",
    "        \n",
    "        # Latency plot\n",
    "        latency_values = list(metrics[\"latency\"].values())\n",
    "        ax2.bar(models, latency_values, color=colors)\n",
    "        ax2.set_title('Inference Latency (s)')\n",
    "        ax2.set_ylabel('Seconds')\n",
    "        ax2.tick_params(axis='x', rotation=45)\n",
    "        \n",
    "        # Perplexity plot\n",
    "        perplexity_values = list(metrics[\"perplexity\"].values())\n",
    "        ax3.bar(models, perplexity_values, color=colors)\n",
    "        ax3.set_title('Perplexity Score')\n",
    "        ax3.set_ylabel('Score')\n",
    "        ax3.tick_params(axis='x', rotation=45)\n",
    "        \n",
    "        plt.tight_layout()\n",
    "        plt.savefig('quantization_results.png')\n",
    "        plt.close()"
   ]
  },
  {
   "cell_type": "code",
   "execution_count": 12,
   "metadata": {
    "execution": {
     "iopub.execute_input": "2024-11-16T18:57:21.534293Z",
     "iopub.status.busy": "2024-11-16T18:57:21.533404Z",
     "iopub.status.idle": "2024-11-16T18:57:21.543216Z",
     "shell.execute_reply": "2024-11-16T18:57:21.542243Z",
     "shell.execute_reply.started": "2024-11-16T18:57:21.534254Z"
    },
    "trusted": true
   },
   "outputs": [
    {
     "name": "stdout",
     "output_type": "stream",
     "text": [
      "Loading dataset...\n",
      "Loading widget...\n",
      "Loading widget...\n",
      "Total samples selected: 3000\n",
      "Using 3000 samples for evaluation\n",
      "Evaluating base model...\n",
      "Memory (Base Model): 474.7001953125\n",
      "Latency (Base Model): 0.09513854980246875\n",
      "Perplexity (Base Model): 31.616287231445312\n",
      "Evaluating 8-bit linear model...\n",
      "Quantizing model to 8-bit linear precision...\n",
      "Memory (8-bit Model): 156.35009765625\n",
      "Latency (8-bit Model): 0.05659055709838867\n",
      "Perplexity (8-bit Model): 31.826826095581055\n",
      "Evaluating 4-bit linear model...\n",
      "Quantizing model to 4-bit linear precision...\n",
      "Memory (4-bit Model): 115.85009765625\n",
      "Latency (4-bit Model): 0.030150651931762695\n",
      "Perplexity (4-bit Model): 35.621337890625\n",
      "Evaluating 4-bit NF4 model...\n",
      "Quantizing model to 4-bit NF4 precision...\n",
      "Memory (NF4 Model): 115.85009765625\n",
      "Latency (NF4 Model): 0.028400182723999023\n",
      "Perplexity (NF4 Model): 33.94419479370117\n"
     ]
    }
   ],
   "source": [
    "quantizer = ModelQuantizer()\n",
    "metrics = quantizer.run_evaluation()\n",
    "quantizer.plot_results()\n"
   ]
  },
  {
   "cell_type": "code",
   "execution_count": null,
   "metadata": {
    "execution": {
     "iopub.execute_input": "2024-11-16T18:58:31.996539Z",
     "iopub.status.busy": "2024-11-16T18:58:31.996123Z",
     "iopub.status.idle": "2024-11-16T18:58:32.007626Z",
     "shell.execute_reply": "2024-11-16T18:58:32.006512Z",
     "shell.execute_reply.started": "2024-11-16T18:58:31.996501Z"
    },
    "trusted": true
   },
   "outputs": [
    {
     "name": "stdout",
     "output_type": "stream",
     "text": [
      "Metrics by Model:\n",
      "\n",
      "Model: base\n",
      "  Memory: 474.7001953125\n",
      "  Latency: 0.0951385498046875\n",
      "  Perplexity: 31.616287231445312\n",
      "\n",
      "Model: 8bit_linear\n",
      "  Memory: 156.35009765625\n",
      "  Latency: 0.05659055709838867\n",
      "  Perplexity: 31.826826095581055\n",
      "\n",
      "Model: 4bit_linear\n",
      "  Memory: 115.85009765625\n",
      "  Latency: 0.030150651931762695\n",
      "  Perplexity: 35.621337890625\n",
      "\n",
      "Model: 4bit_nf4\n",
      "  Memory: 115.85009765625\n",
      "  Latency: 0.028400182723999023\n",
      "  Perplexity: 33.94419479370117\n"
     ]
    }
   ],
   "source": [
    "models = [\"base\", \"8bit_linear\", \"4bit_linear\", \"4bit_nf4\"]\n",
    "results_by_model = {model: {} for model in models}\n",
    "\n",
    "for category, values in metrics.items():\n",
    "    for model, value in values.items():\n",
    "        results_by_model[model][category] = value\n",
    "\n",
    "print(\"Metrics by Model:\\n\")\n",
    "for model, results in results_by_model.items():\n",
    "    print(f\"Model: {model}\")\n",
    "    for metric, value in results.items():\n",
    "        print(f\"  {metric.capitalize()}: {value}\")\n",
    "    print()\n"
   ]
  },
  {
   "cell_type": "code",
   "execution_count": 16,
   "metadata": {
    "execution": {
     "iopub.execute_input": "2024-11-16T19:00:48.587539Z",
     "iopub.status.busy": "2024-11-16T19:00:48.586892Z",
     "iopub.status.idle": "2024-11-16T19:00:48.594873Z",
     "shell.execute_reply": "2024-11-16T19:00:48.594019Z",
     "shell.execute_reply.started": "2024-11-16T19:00:48.587499Z"
    },
    "trusted": true
   },
   "outputs": [
    {
     "data": {
      "image/png": "[encoded data removed]",
      "text/plain": [
       "<IPython.core.display.Image object>"
      ]
     },
     "metadata": {},
     "output_type": "display_data"
    }
   ],
   "source": [
    "from IPython.display import Image, display\n",
    "\n",
    "display(Image(filename='quantization_results.png'))"
   ]
  },
  {
   "cell_type": "code",
   "execution_count": null,
   "metadata": {
    "trusted": true
   },
   "outputs": [],
   "source": []
  }
 ],
 "metadata": {
  "kaggle": {
   "accelerator": "nvidiaTeslaT4",
   "dataSources": [
    {
     "datasetId": 3524965,
     "sourceId": 6146775,
     "sourceType": "datasetVersion"
    }
   ],
   "dockerImageVersionId": 30787,
   "isGpuEnabled": true,
   "isInternetEnabled": true,
   "language": "python",
   "sourceType": "notebook"
  },
  "kernelspec": {
   "display_name": "Python 3",
   "language": "python",
   "name": "python3"
  },
  "language_info": {
   "codemirror_mode": {
    "name": "ipython",
    "version": 3
   },
   "file_extension": ".py",
   "mimetype": "text/x-python",
   "name": "python",
   "nbconvert_exporter": "python",
   "pygments_lexer": "ipython3",
   "version": "3.10.14"
  }
 },
 "nbformat": 4,
 "nbformat_minor": 4
}
